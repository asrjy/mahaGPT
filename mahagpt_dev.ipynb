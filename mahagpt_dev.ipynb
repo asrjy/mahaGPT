{
  "nbformat": 4,
  "nbformat_minor": 0,
  "metadata": {
    "colab": {
      "provenance": []
    },
    "kernelspec": {
      "name": "python3",
      "display_name": "Python 3"
    },
    "language_info": {
      "name": "python"
    }
  },
  "cells": [
    {
      "cell_type": "code",
      "execution_count": 7,
      "metadata": {
        "id": "jpRGj5vuXa-A"
      },
      "outputs": [],
      "source": [
        "with open('mahabharata.txt', 'r', encoding = 'utf-8') as f:\n",
        "  text = f.read()"
      ]
    },
    {
      "cell_type": "code",
      "source": [
        "len(text)"
      ],
      "metadata": {
        "colab": {
          "base_uri": "https://localhost:8080/"
        },
        "id": "g-NznPM6YPIc",
        "outputId": "48c513d1-d581-4c74-ab4c-c453b53704b8"
      },
      "execution_count": 8,
      "outputs": [
        {
          "output_type": "execute_result",
          "data": {
            "text/plain": [
              "14929983"
            ]
          },
          "metadata": {},
          "execution_count": 8
        }
      ]
    },
    {
      "cell_type": "code",
      "source": [
        "print(text[:1000])"
      ],
      "metadata": {
        "colab": {
          "base_uri": "https://localhost:8080/"
        },
        "id": "MNeNKE7jYQ1a",
        "outputId": "7a7907d6-2588-4c9f-c7c3-f9acc32856e9"
      },
      "execution_count": 9,
      "outputs": [
        {
          "output_type": "stream",
          "name": "stdout",
          "text": [
            "ADI PARVA\n",
            "\n",
            "SECTION I\n",
            "\n",
            "Om! Having bowed down to Narayana and Nara, the most exalted male being,\n",
            "and also to the goddess Saraswati, must the word Jaya be uttered.\n",
            "\n",
            "Ugrasrava, the son of Lomaharshana, surnamed Sauti, well-versed in the\n",
            "Puranas, bending with humility, one day approached the great sages of\n",
            "rigid vows, sitting at their ease, who had attended the twelve years'\n",
            "sacrifice of Saunaka, surnamed Kulapati, in the forest of Naimisha. Those\n",
            "ascetics, wishing to hear his wonderful narrations, presently began to\n",
            "address him who had thus arrived at that recluse abode of the inhabitants\n",
            "of the forest of Naimisha. Having been entertained with due respect by\n",
            "those holy men, he saluted those Munis (sages) with joined palms, even\n",
            "all of them, and inquired about the progress of their asceticism. Then\n",
            "all the ascetics being again seated, the son of Lomaharshana humbly\n",
            "occupied the seat that was assigned to him. Seeing that he was\n",
            "comfortably seated, and recovered from fatigue, one of the Rishi\n"
          ]
        }
      ]
    },
    {
      "cell_type": "code",
      "source": [
        "chars = sorted(list(set(text)))\n",
        "vocab_size = len(chars)\n",
        "print(''.join(chars))\n",
        "print(vocab_size)\n"
      ],
      "metadata": {
        "colab": {
          "base_uri": "https://localhost:8080/"
        },
        "id": "AkIuEPNmYvNK",
        "outputId": "e6b7b27b-d6ae-4336-b4c5-a8813ee46b1b"
      },
      "execution_count": 10,
      "outputs": [
        {
          "output_type": "stream",
          "name": "stdout",
          "text": [
            "\n",
            " !\"&'(),-.0123456789:;?ABCDEFGHIJKLMNOPQRSTUVWXYZ[]_abcdefghijklmnopqrstuvwxyz\n",
            "79\n"
          ]
        }
      ]
    },
    {
      "cell_type": "code",
      "source": [
        "stoi = {ch:i for i, ch in enumerate(chars)}\n",
        "itos = {i:ch for i, ch in enumerate(chars)}\n",
        "\n",
        "encode = lambda s: [stoi[c] for c in s]\n",
        "decode = lambda l: ''.join([itos[i] for i in l])"
      ],
      "metadata": {
        "id": "LGJuIkXhZECN"
      },
      "execution_count": 13,
      "outputs": []
    },
    {
      "cell_type": "code",
      "source": [
        "print(encode(\"yoo wassup\"))\n",
        "print(decode(encode(\"yoo wassup\")))"
      ],
      "metadata": {
        "colab": {
          "base_uri": "https://localhost:8080/"
        },
        "id": "AToGsY4SqHNm",
        "outputId": "979b9463-08a1-41ab-f1f1-930848aa08bf"
      },
      "execution_count": 14,
      "outputs": [
        {
          "output_type": "stream",
          "name": "stdout",
          "text": [
            "[77, 67, 67, 1, 75, 53, 71, 71, 73, 68]\n",
            "yoo wassup\n"
          ]
        }
      ]
    },
    {
      "cell_type": "code",
      "source": [],
      "metadata": {
        "id": "H-mxu4PSqM_b"
      },
      "execution_count": null,
      "outputs": []
    }
  ]
}